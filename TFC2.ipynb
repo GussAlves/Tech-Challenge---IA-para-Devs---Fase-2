{
  "nbformat": 4,
  "nbformat_minor": 0,
  "metadata": {
    "colab": {
      "provenance": [],
      "toc_visible": true,
      "include_colab_link": true
    },
    "kernelspec": {
      "name": "python3",
      "display_name": "Python 3"
    },
    "language_info": {
      "name": "python"
    }
  },
  "cells": [
    {
      "cell_type": "markdown",
      "metadata": {
        "id": "view-in-github",
        "colab_type": "text"
      },
      "source": [
        "<a href=\"https://colab.research.google.com/github/GussAlves/Tech-Challenge---IA-para-Devs---Fase-2/blob/main/TFC2.ipynb\" target=\"_parent\"><img src=\"https://colab.research.google.com/assets/colab-badge.svg\" alt=\"Open In Colab\"/></a>"
      ]
    },
    {
      "cell_type": "code",
      "execution_count": null,
      "metadata": {
        "colab": {
          "base_uri": "https://localhost:8080/"
        },
        "id": "Mutshq0ZS9N9",
        "outputId": "197bd442-3681-4012-8574-ea817c354de7"
      },
      "outputs": [
        {
          "output_type": "stream",
          "name": "stdout",
          "text": [
            "Requirement already satisfied: deap in /usr/local/lib/python3.10/dist-packages (1.4.1)\n",
            "Requirement already satisfied: numpy in /usr/local/lib/python3.10/dist-packages (from deap) (1.26.4)\n"
          ]
        }
      ],
      "source": [
        "pip install deap"
      ]
    },
    {
      "cell_type": "code",
      "source": [
        "import random\n",
        "import smtplib\n",
        "import pandas as pd\n",
        "import os\n",
        "from cryptography.fernet import Fernet\n",
        "from deap import base, creator, tools, algorithms\n",
        "from email.mime.text import MIMEText\n",
        "from email.mime.multipart import MIMEMultipart"
      ],
      "metadata": {
        "id": "N8A8MBa5iRjD"
      },
      "execution_count": null,
      "outputs": []
    },
    {
      "cell_type": "markdown",
      "source": [
        "Parâmetros de entrada"
      ],
      "metadata": {
        "id": "kUCSnicsiXJs"
      }
    },
    {
      "cell_type": "code",
      "source": [
        "# Parâmetros de entrada\n",
        "NUM_SENSORS = 10\n",
        "NUM_AREAS = 5\n",
        "\n",
        "CRITICITY_LEVELS = [4, 3, 5, 2, 1]  # Nível de criticidade de cada área (escala de 1 a 5)\n",
        "PROB_ATTACK = [0.2, 0.1, 0.4, 0.05, 0.3]  # Probabilidade de um ataque ocorrer em cada área\n",
        "COST = [600, 300, 900, 150, 500]  # Custo de proteção (instalação de sensores) em cada área\n",
        "CAPACITY = [120, 80, 200, 60, 100]  # Capacidade de monitoramento dos sensores em cada área\n",
        "VULNERABILITIES = [True, False, True, False, True]  # Indica se há vulnerabilidades conhecidas em cada área\n",
        "CVSS_SCORES = [8.7, 0, 9.2, 0, 7.5]  # Pontuação CVSS (severidade da vulnerabilidade) para cada área\n",
        "MAX_COST = 2500  # Custo máximo permitido para a instalação\n",
        "MAX_CAPACITY = 400  # Capacidade máxima permitida de sensores\n",
        "\n",
        "HISTORY_FILE = \"historico_criticidade.txt\""
      ],
      "metadata": {
        "id": "CVijwplYiUar"
      },
      "execution_count": null,
      "outputs": []
    },
    {
      "cell_type": "code",
      "source": [
        "# Função para carregar a chave de criptografia\n",
        "def load_encryption_key():\n",
        "    with open(\"encryption_key.key\", \"rb\") as key_file:\n",
        "        return key_file.read()\n",
        "\n",
        "# Função para descriptografar as credenciais\n",
        "def load_encrypted_credentials():\n",
        "    key = load_encryption_key()\n",
        "    fernet = Fernet(key)\n",
        "\n",
        "    with open(\"encrypted_credentials.txt\", \"rb\") as file:\n",
        "        encrypted_sender_email = file.readline().strip()\n",
        "        encrypted_receiver_email = file.readline().strip()\n",
        "        encrypted_password = file.readline().strip()\n",
        "\n",
        "    sender_email = fernet.decrypt(encrypted_sender_email).decode()\n",
        "    receiver_email = fernet.decrypt(encrypted_receiver_email).decode()\n",
        "    password = fernet.decrypt(encrypted_password).decode()\n",
        "\n",
        "    sender_email = \"fiaptest@yahoo.com\"\n",
        "    receiver_email = \"edurique69@gmail.com\"\n",
        "    password = \"#Q@W#qw3Q@W#q2w3\"\n",
        "\n",
        "    return sender_email, receiver_email, password\n",
        "\n",
        "# Função para enviar e-mail de alerta usando as credenciais descriptografadas\n",
        "def send_email_alert(subject, body):\n",
        "    sender_email, receiver_email, password = load_encrypted_credentials()\n",
        "\n",
        "    smtp_server = \"smtp.gmail.com\"\n",
        "    smtp_port = 587\n",
        "\n",
        "    # Criação da mensagem de e-mail\n",
        "    msg = MIMEMultipart()\n",
        "    msg[\"From\"] = sender_email\n",
        "    msg[\"To\"] = receiver_email\n",
        "    msg[\"Subject\"] = subject\n",
        "    msg.attach(MIMEText(body, \"plain\"))  # Adiciona o corpo do e-mail como texto simples\n",
        "\n",
        "    try:\n",
        "        # Conexão com o servidor SMTP\n",
        "        server = smtplib.SMTP(smtp_server, smtp_port)\n",
        "        server.starttls()  # Inicia a conexão criptografada TLS\n",
        "        server.login(sender_email, password)  # Faz o login com o e-mail e senha\n",
        "\n",
        "        # Envia o e-mail\n",
        "        server.sendmail(sender_email, receiver_email, msg.as_string())\n",
        "        print(\"E-mail enviado com sucesso!\")\n",
        "\n",
        "        # Fecha a conexão com o servidor\n",
        "        server.quit()\n",
        "    except Exception as e:\n",
        "        print(f\"Erro ao enviar o e-mail: {e}\")\n",
        "\n",
        "    print(\"E-mail enviado com sucesso!\")\n",
        "\n",
        "# Função de fitness com avaliação de vulnerabilidade e CVSS\n",
        "def eval_allocation(individual):\n",
        "    total_critic = 0\n",
        "    total_cost = 0\n",
        "    total_capacity = 0\n",
        "\n",
        "    for i in range(NUM_AREAS):\n",
        "        if individual[i] == 1:\n",
        "            vulnerability_factor = CVSS_SCORES[i] if VULNERABILITIES[i] else 1\n",
        "            total_critic += CRITICITY_LEVELS[i] * PROB_ATTACK[i] * vulnerability_factor\n",
        "            total_cost += COST[i]\n",
        "            total_capacity += CAPACITY[i]\n",
        "\n",
        "    if total_cost > MAX_COST or total_capacity > MAX_CAPACITY:\n",
        "        return 0,\n",
        "    return total_critic,\n",
        "\n",
        "# Classificação de criticidade com base na pontuação CVSS\n",
        "def classify_criticidade_cvss(cvss_score):\n",
        "    if cvss_score >= 9.0:\n",
        "        return \"Crítica\"\n",
        "    elif 7.0 <= cvss_score < 9.0:\n",
        "        return \"Alta\"\n",
        "    elif 4.0 <= cvss_score < 7.0:\n",
        "        return \"Média\"\n",
        "    elif 0.1 <= cvss_score < 4.0:\n",
        "        return \"Baixa\"\n",
        "    else:\n",
        "        return \"Nenhuma\"\n",
        "\n",
        "# Função para gerar relatório\n",
        "def generate_report(best_ind, best_fitness, criticidade, total_cost, total_capacity):\n",
        "    areas = [f\"Área {i+1}\" for i in range(NUM_AREAS)]\n",
        "    allocation = best_ind\n",
        "    vulnerability_status = [\"Vulnerável\" if VULNERABILITIES[i] else \"Seguro\" for i in range(NUM_AREAS)]\n",
        "    cvss_classification = [classify_criticidade_cvss(CVSS_SCORES[i]) for i in range(NUM_AREAS)]\n",
        "\n",
        "    # Criação do DataFrame\n",
        "    data = {\n",
        "        \"Área\": areas,\n",
        "        \"Alocação de Sensores (1 = Sim, 0 = Não)\": allocation,\n",
        "        \"Nível de Criticidade\": CRITICITY_LEVELS,\n",
        "        \"Probabilidade de Ataque\": PROB_ATTACK,\n",
        "        \"Custo de Implementação\": COST,\n",
        "        \"Capacidade Utilizada\": CAPACITY,\n",
        "        \"Vulnerabilidade por Falta de Patch\": vulnerability_status,\n",
        "        \"Pontuação CVSS\": CVSS_SCORES,\n",
        "        \"Classificação CVSS\": cvss_classification\n",
        "    }\n",
        "\n",
        "    df = pd.DataFrame(data)\n",
        "\n",
        "    # Informações gerais\n",
        "    summary = {\n",
        "        \"Fitness\": best_fitness,\n",
        "        \"Criticidade Global\": criticidade,\n",
        "        \"Custo Total\": total_cost,\n",
        "        \"Capacidade Total\": total_capacity\n",
        "    }\n",
        "\n",
        "    summary_df = pd.DataFrame(list(summary.items()), columns=[\"Parâmetro\", \"Valor\"])\n",
        "\n",
        "    # Exporta o relatório em Excel\n",
        "    with pd.ExcelWriter(\"relatorio_monitoramento.xlsx\", engine='openpyxl') as writer:\n",
        "        df.to_excel(writer, sheet_name=\"Detalhes de Alocação\", index=False)\n",
        "        summary_df.to_excel(writer, sheet_name=\"Resumo\", index=False)\n",
        "\n",
        "    print(\"Relatório gerado com sucesso: relatorio_monitoramento.xlsx\")\n",
        "\n",
        "# Função para verificar o histórico de criticidade\n",
        "def check_criticidade_history(criticidade):\n",
        "    if not os.path.exists(HISTORY_FILE):\n",
        "        with open(HISTORY_FILE, \"w\") as file:\n",
        "            file.write(f\"{criticidade}\\n\")\n",
        "        return False\n",
        "\n",
        "    # Leitura do histórico\n",
        "    with open(HISTORY_FILE, \"r\") as file:\n",
        "        history = file.readlines()\n",
        "\n",
        "    # Adicionar a criticidade do dia atual\n",
        "    history.append(f\"{criticidade}\\n\")\n",
        "\n",
        "    # Manter apenas os últimos 3 dias no histórico\n",
        "    if len(history) > 3:\n",
        "        history = history[-3:]\n",
        "\n",
        "    # Salvar o histórico atualizado\n",
        "    with open(HISTORY_FILE, \"w\") as file:\n",
        "        file.writelines(history)\n",
        "\n",
        "    # Verifica se os últimos 3 dias foram \"Média\"\n",
        "    if history.count(\"Média\\n\") >= 3:\n",
        "        return True\n",
        "    return False\n",
        "\n",
        "# Criação de indivíduos e população\n",
        "creator.create(\"FitnessMax\", base.Fitness, weights=(1.0,))\n",
        "creator.create(\"Individual\", list, fitness=creator.FitnessMax)\n",
        "\n",
        "toolbox = base.Toolbox()\n",
        "toolbox.register(\"attr_bool\", random.randint, 0, 1)\n",
        "toolbox.register(\"individual\", tools.initRepeat, creator.Individual, toolbox.attr_bool, n=NUM_AREAS)\n",
        "toolbox.register(\"population\", tools.initRepeat, list, toolbox.individual)\n",
        "\n",
        "# Funções de avaliação, cruzamento e mutação\n",
        "toolbox.register(\"evaluate\", eval_allocation)\n",
        "toolbox.register(\"mate\", tools.cxTwoPoint)\n",
        "toolbox.register(\"mutate\", tools.mutFlipBit, indpb=0.05)\n",
        "toolbox.register(\"select\", tools.selTournament, tournsize=3)\n",
        "\n",
        "def main():\n",
        "    population = toolbox.population(n=50)\n",
        "\n",
        "    # Algoritmo Genético\n",
        "    algorithms.eaSimple(population, toolbox, cxpb=0.5, mutpb=0.2, ngen=40, verbose=False)\n",
        "\n",
        "    # Avaliação da melhor solução\n",
        "    best_ind = tools.selBest(population, 1)[0]\n",
        "    best_fitness = best_ind.fitness.values[0]\n",
        "        # Cálculo de custo e capacidade total\n",
        "    total_cost = sum([COST[i] for i in range(NUM_AREAS) if best_ind[i] == 1])\n",
        "    total_capacity = sum([CAPACITY[i] for i in range(NUM_AREAS) if best_ind[i] == 1])\n",
        "\n",
        "    # Classificação da criticidade global\n",
        "    criticidade = classify_criticidade_cvss(best_fitness)\n",
        "    print(f\"Melhor alocação de sensores: {best_ind}\")\n",
        "    print(f\"Criticidade da melhor solução: {criticidade}\")\n",
        "    print(f\"Custo total: {total_cost}\")\n",
        "    print(f\"Capacidade total: {total_capacity}\")\n",
        "\n",
        "    # Geração do relatório\n",
        "    generate_report(best_ind, best_fitness, criticidade, total_cost, total_capacity)\n",
        "\n",
        "    # Verifica o histórico de criticidade e envia alerta se necessário\n",
        "    if check_criticidade_history(criticidade):\n",
        "        email_subject = \"Alerta de Criticidade Média - 3 Dias Consecutivos\"\n",
        "        email_body = f\"\"\"\n",
        "        A criticidade da alocação de sensores permaneceu em nível 'Média' por 3 dias consecutivos.\n",
        "\n",
        "        Melhor alocação de sensores: {best_ind}\n",
        "        Criticidade: {criticidade}\n",
        "        Fitness: {best_fitness}\n",
        "        Custo Total: {total_cost}\n",
        "        Capacidade Total: {total_capacity}\n",
        "        \"\"\"\n",
        "        send_email_alert(email_subject, email_body)\n",
        "\n",
        "    # Enviar e-mail de alerta para criticidade alta ou crítica\n",
        "    if criticidade in [\"Alta\", \"Crítica\"]:\n",
        "        email_subject = \"Alocação de Sensores - Alerta de Segurança\"\n",
        "        email_body = f\"\"\"\n",
        "        Melhor alocação de sensores foi encontrada:\n",
        "        Alocação: {best_ind}\n",
        "        Criticidade: {criticidade}\n",
        "        Fitness: {best_fitness}\n",
        "        Custo Total: {total_cost}\n",
        "        Capacidade Total: {total_capacity}\n",
        "        \"\"\"\n",
        "        send_email_alert(email_subject, email_body)\n",
        "\n",
        "if __name__ == \"__main__\":\n",
        "    main()\n"
      ],
      "metadata": {
        "colab": {
          "base_uri": "https://localhost:8080/"
        },
        "id": "VOMAfM4fTDJV",
        "outputId": "9f38f228-92a6-47ac-92fe-de7e60af54eb"
      },
      "execution_count": null,
      "outputs": [
        {
          "output_type": "stream",
          "name": "stdout",
          "text": [
            "Melhor alocação de sensores: [1, 1, 1, 0, 0]\n",
            "Criticidade da melhor solução: Crítica\n",
            "Custo total: 1800\n",
            "Capacidade total: 400\n",
            "Relatório gerado com sucesso: relatorio_monitoramento.xlsx\n",
            "E-mail enviado com sucesso!\n"
          ]
        }
      ]
    },
    {
      "cell_type": "markdown",
      "source": [
        "Método de Força Bruta"
      ],
      "metadata": {
        "id": "O6cN-3iZUQJN"
      }
    },
    {
      "cell_type": "code",
      "source": [
        "import itertools\n",
        "\n",
        "def brute_force_solution():\n",
        "    best_solution = None\n",
        "    best_fitness = -1\n",
        "\n",
        "    # Gera todas as combinações possíveis de alocação de sensores (0 ou 1)\n",
        "    for combination in itertools.product([0, 1], repeat=NUM_AREAS):\n",
        "        total_critic = 0\n",
        "        total_cost = 0\n",
        "        total_capacity = 0\n",
        "\n",
        "        for i in range(NUM_AREAS):\n",
        "            if combination[i] == 1:\n",
        "                vulnerability_factor = CVSS_SCORES[i] if VULNERABILITIES[i] else 1\n",
        "                total_critic += CRITICITY_LEVELS[i] * PROB_ATTACK[i] * vulnerability_factor\n",
        "                total_cost += COST[i]\n",
        "                total_capacity += CAPACITY[i]\n",
        "\n",
        "        # Verifica se a solução respeita as restrições de custo e capacidade\n",
        "        if total_cost <= MAX_COST and total_capacity <= MAX_CAPACITY:\n",
        "            if total_critic > best_fitness:\n",
        "                best_fitness = total_critic\n",
        "                best_solution = combination\n",
        "\n",
        "    return best_solution, best_fitness\n",
        "\n",
        "# Chama a função de força bruta para comparação\n",
        "brute_solution, brute_fitness = brute_force_solution()\n",
        "print(f\"Melhor solução (Força Bruta): {brute_solution}, Fitness: {brute_fitness}\")\n"
      ],
      "metadata": {
        "colab": {
          "base_uri": "https://localhost:8080/"
        },
        "id": "0t4VTxHwUPQN",
        "outputId": "469242df-a4a2-4b32-ffdb-1f2fbf7624c1"
      },
      "execution_count": null,
      "outputs": [
        {
          "output_type": "stream",
          "name": "stdout",
          "text": [
            "Melhor solução (Força Bruta): (1, 1, 1, 0, 0), Fitness: 25.659999999999997\n"
          ]
        }
      ]
    },
    {
      "cell_type": "markdown",
      "source": [
        "Metodo Guloso"
      ],
      "metadata": {
        "id": "v2vHOPDtVYSG"
      }
    },
    {
      "cell_type": "code",
      "source": [
        "def greedy_solution():\n",
        "    # Calcula a razão criticidade/custo para cada área\n",
        "    ratios = [(CRITICITY_LEVELS[i] * PROB_ATTACK[i] / COST[i], i) for i in range(NUM_AREAS)]\n",
        "\n",
        "    # Ordena as áreas pela razão criticidade/custo em ordem decrescente\n",
        "    ratios.sort(reverse=True)\n",
        "\n",
        "    total_critic = 0\n",
        "    total_cost = 0\n",
        "    total_capacity = 0\n",
        "    allocation = [0] * NUM_AREAS  # Inicializa a solução com todos os sensores desativados\n",
        "\n",
        "    for ratio, i in ratios:\n",
        "        if total_cost + COST[i] <= MAX_COST and total_capacity + CAPACITY[i] <= MAX_CAPACITY:\n",
        "            allocation[i] = 1  # Aloca o sensor nessa área\n",
        "            vulnerability_factor = CVSS_SCORES[i] if VULNERABILITIES[i] else 1\n",
        "            total_critic += CRITICITY_LEVELS[i] * PROB_ATTACK[i] * vulnerability_factor\n",
        "            total_cost += COST[i]\n",
        "            total_capacity += CAPACITY[i]\n",
        "\n",
        "    return allocation, total_critic\n",
        "\n",
        "# Chama a função gulosa para comparação\n",
        "greedy_allocation, greedy_fitness = greedy_solution()\n",
        "print(f\"Melhor solução (Método Guloso): {greedy_allocation}, Fitness: {greedy_fitness}\")"
      ],
      "metadata": {
        "colab": {
          "base_uri": "https://localhost:8080/"
        },
        "id": "geT2xE8gWuE2",
        "outputId": "8730195b-1151-46e3-b7e7-ccf10763d7c1"
      },
      "execution_count": null,
      "outputs": [
        {
          "output_type": "stream",
          "name": "stdout",
          "text": [
            "Melhor solução (Método Guloso): [1, 1, 1, 0, 0], Fitness: 25.66\n"
          ]
        }
      ]
    },
    {
      "cell_type": "markdown",
      "source": [
        "Comparação entre método e resultado"
      ],
      "metadata": {
        "id": "kXQPgdmiY-Se"
      }
    },
    {
      "cell_type": "code",
      "source": [
        "import time\n",
        "def compare_methods():\n",
        "    # Algoritmo Genético\n",
        "    start_time = time.time()\n",
        "    population = toolbox.population(n=50)\n",
        "    algorithms.eaSimple(population, toolbox, cxpb=0.5, mutpb=0.2, ngen=40, verbose=False)\n",
        "    best_ind_genetic = tools.selBest(population, 1)[0]\n",
        "    best_fitness_genetic = best_ind_genetic.fitness.values[0]\n",
        "    time_genetic = time.time() - start_time\n",
        "\n",
        "    # Força Bruta\n",
        "    start_time = time.time()\n",
        "    best_solution_brute, best_fitness_brute = brute_force_solution()\n",
        "    time_brute = time.time() - start_time\n",
        "\n",
        "    # Método Guloso\n",
        "    start_time = time.time()\n",
        "    best_solution_greedy, best_fitness_greedy = greedy_solution()\n",
        "    time_greedy = time.time() - start_time\n",
        "\n",
        "    # Exibe os resultados\n",
        "    print(\"Comparação de Métodos:\")\n",
        "    print(f\"Algoritmo Genético: Melhor Fitness = {best_fitness_genetic}, Tempo = {time_genetic:.4f} segundos\")\n",
        "    print(f\"Força Bruta: Melhor Fitness = {best_fitness_brute}, Tempo = {time_brute:.4f} segundos\")\n",
        "    print(f\"Método Guloso: Melhor Fitness = {best_fitness_greedy}, Tempo = {time_greedy:.4f} segundos\")\n",
        "\n",
        "# Chama a função de comparação\n",
        "compare_methods()\n"
      ],
      "metadata": {
        "colab": {
          "base_uri": "https://localhost:8080/"
        },
        "id": "hyNbe7yZZZ2p",
        "outputId": "537a306d-77b6-4f5e-eb13-750dd72d7288"
      },
      "execution_count": null,
      "outputs": [
        {
          "output_type": "stream",
          "name": "stdout",
          "text": [
            "Comparação de Métodos:\n",
            "Algoritmo Genético: Melhor Fitness = 25.659999999999997, Tempo = 0.0433 segundos\n",
            "Força Bruta: Melhor Fitness = 25.659999999999997, Tempo = 0.0001 segundos\n",
            "Método Guloso: Melhor Fitness = 25.66, Tempo = 0.0000 segundos\n"
          ]
        }
      ]
    }
  ]
}